{
 "cells": [
  {
   "cell_type": "code",
   "execution_count": 1,
   "id": "79dd8fc9",
   "metadata": {
    "execution": {
     "iopub.execute_input": "2023-03-10T18:04:27.323774Z",
     "iopub.status.busy": "2023-03-10T18:04:27.323361Z",
     "iopub.status.idle": "2023-03-10T18:04:27.334055Z",
     "shell.execute_reply": "2023-03-10T18:04:27.332658Z"
    },
    "papermill": {
     "duration": 0.022066,
     "end_time": "2023-03-10T18:04:27.337121",
     "exception": false,
     "start_time": "2023-03-10T18:04:27.315055",
     "status": "completed"
    },
    "tags": []
   },
   "outputs": [],
   "source": [
    "import numpy as np\n",
    "import pandas as pd"
   ]
  },
  {
   "cell_type": "code",
   "execution_count": 2,
   "id": "aa91fdf1",
   "metadata": {
    "execution": {
     "iopub.execute_input": "2023-03-10T18:04:27.351437Z",
     "iopub.status.busy": "2023-03-10T18:04:27.350995Z",
     "iopub.status.idle": "2023-03-10T18:04:27.422005Z",
     "shell.execute_reply": "2023-03-10T18:04:27.420784Z"
    },
    "papermill": {
     "duration": 0.081327,
     "end_time": "2023-03-10T18:04:27.424650",
     "exception": false,
     "start_time": "2023-03-10T18:04:27.343323",
     "status": "completed"
    },
    "tags": []
   },
   "outputs": [],
   "source": [
    "train = pd.read_csv(\"/kaggle/input/house-prices-advanced-regression-techniques/train.csv\")\n",
    "test = pd.read_csv(\"/kaggle/input/house-prices-advanced-regression-techniques/test.csv\")\n"
   ]
  },
  {
   "cell_type": "code",
   "execution_count": 3,
   "id": "80f07d5c",
   "metadata": {
    "execution": {
     "iopub.execute_input": "2023-03-10T18:04:27.438652Z",
     "iopub.status.busy": "2023-03-10T18:04:27.438300Z",
     "iopub.status.idle": "2023-03-10T18:04:27.473615Z",
     "shell.execute_reply": "2023-03-10T18:04:27.472164Z"
    },
    "papermill": {
     "duration": 0.044927,
     "end_time": "2023-03-10T18:04:27.475790",
     "exception": false,
     "start_time": "2023-03-10T18:04:27.430863",
     "status": "completed"
    },
    "tags": []
   },
   "outputs": [
    {
     "name": "stdout",
     "output_type": "stream",
     "text": [
      "<class 'pandas.core.frame.DataFrame'>\n",
      "RangeIndex: 1460 entries, 0 to 1459\n",
      "Data columns (total 81 columns):\n",
      " #   Column         Non-Null Count  Dtype  \n",
      "---  ------         --------------  -----  \n",
      " 0   Id             1460 non-null   int64  \n",
      " 1   MSSubClass     1460 non-null   int64  \n",
      " 2   MSZoning       1460 non-null   object \n",
      " 3   LotFrontage    1201 non-null   float64\n",
      " 4   LotArea        1460 non-null   int64  \n",
      " 5   Street         1460 non-null   object \n",
      " 6   Alley          91 non-null     object \n",
      " 7   LotShape       1460 non-null   object \n",
      " 8   LandContour    1460 non-null   object \n",
      " 9   Utilities      1460 non-null   object \n",
      " 10  LotConfig      1460 non-null   object \n",
      " 11  LandSlope      1460 non-null   object \n",
      " 12  Neighborhood   1460 non-null   object \n",
      " 13  Condition1     1460 non-null   object \n",
      " 14  Condition2     1460 non-null   object \n",
      " 15  BldgType       1460 non-null   object \n",
      " 16  HouseStyle     1460 non-null   object \n",
      " 17  OverallQual    1460 non-null   int64  \n",
      " 18  OverallCond    1460 non-null   int64  \n",
      " 19  YearBuilt      1460 non-null   int64  \n",
      " 20  YearRemodAdd   1460 non-null   int64  \n",
      " 21  RoofStyle      1460 non-null   object \n",
      " 22  RoofMatl       1460 non-null   object \n",
      " 23  Exterior1st    1460 non-null   object \n",
      " 24  Exterior2nd    1460 non-null   object \n",
      " 25  MasVnrType     1452 non-null   object \n",
      " 26  MasVnrArea     1452 non-null   float64\n",
      " 27  ExterQual      1460 non-null   object \n",
      " 28  ExterCond      1460 non-null   object \n",
      " 29  Foundation     1460 non-null   object \n",
      " 30  BsmtQual       1423 non-null   object \n",
      " 31  BsmtCond       1423 non-null   object \n",
      " 32  BsmtExposure   1422 non-null   object \n",
      " 33  BsmtFinType1   1423 non-null   object \n",
      " 34  BsmtFinSF1     1460 non-null   int64  \n",
      " 35  BsmtFinType2   1422 non-null   object \n",
      " 36  BsmtFinSF2     1460 non-null   int64  \n",
      " 37  BsmtUnfSF      1460 non-null   int64  \n",
      " 38  TotalBsmtSF    1460 non-null   int64  \n",
      " 39  Heating        1460 non-null   object \n",
      " 40  HeatingQC      1460 non-null   object \n",
      " 41  CentralAir     1460 non-null   object \n",
      " 42  Electrical     1459 non-null   object \n",
      " 43  1stFlrSF       1460 non-null   int64  \n",
      " 44  2ndFlrSF       1460 non-null   int64  \n",
      " 45  LowQualFinSF   1460 non-null   int64  \n",
      " 46  GrLivArea      1460 non-null   int64  \n",
      " 47  BsmtFullBath   1460 non-null   int64  \n",
      " 48  BsmtHalfBath   1460 non-null   int64  \n",
      " 49  FullBath       1460 non-null   int64  \n",
      " 50  HalfBath       1460 non-null   int64  \n",
      " 51  BedroomAbvGr   1460 non-null   int64  \n",
      " 52  KitchenAbvGr   1460 non-null   int64  \n",
      " 53  KitchenQual    1460 non-null   object \n",
      " 54  TotRmsAbvGrd   1460 non-null   int64  \n",
      " 55  Functional     1460 non-null   object \n",
      " 56  Fireplaces     1460 non-null   int64  \n",
      " 57  FireplaceQu    770 non-null    object \n",
      " 58  GarageType     1379 non-null   object \n",
      " 59  GarageYrBlt    1379 non-null   float64\n",
      " 60  GarageFinish   1379 non-null   object \n",
      " 61  GarageCars     1460 non-null   int64  \n",
      " 62  GarageArea     1460 non-null   int64  \n",
      " 63  GarageQual     1379 non-null   object \n",
      " 64  GarageCond     1379 non-null   object \n",
      " 65  PavedDrive     1460 non-null   object \n",
      " 66  WoodDeckSF     1460 non-null   int64  \n",
      " 67  OpenPorchSF    1460 non-null   int64  \n",
      " 68  EnclosedPorch  1460 non-null   int64  \n",
      " 69  3SsnPorch      1460 non-null   int64  \n",
      " 70  ScreenPorch    1460 non-null   int64  \n",
      " 71  PoolArea       1460 non-null   int64  \n",
      " 72  PoolQC         7 non-null      object \n",
      " 73  Fence          281 non-null    object \n",
      " 74  MiscFeature    54 non-null     object \n",
      " 75  MiscVal        1460 non-null   int64  \n",
      " 76  MoSold         1460 non-null   int64  \n",
      " 77  YrSold         1460 non-null   int64  \n",
      " 78  SaleType       1460 non-null   object \n",
      " 79  SaleCondition  1460 non-null   object \n",
      " 80  SalePrice      1460 non-null   int64  \n",
      "dtypes: float64(3), int64(35), object(43)\n",
      "memory usage: 924.0+ KB\n"
     ]
    }
   ],
   "source": [
    "train.info()"
   ]
  },
  {
   "cell_type": "code",
   "execution_count": 4,
   "id": "1a62273f",
   "metadata": {
    "execution": {
     "iopub.execute_input": "2023-03-10T18:04:27.489789Z",
     "iopub.status.busy": "2023-03-10T18:04:27.489387Z",
     "iopub.status.idle": "2023-03-10T18:04:27.509549Z",
     "shell.execute_reply": "2023-03-10T18:04:27.508696Z"
    },
    "papermill": {
     "duration": 0.029662,
     "end_time": "2023-03-10T18:04:27.511667",
     "exception": false,
     "start_time": "2023-03-10T18:04:27.482005",
     "status": "completed"
    },
    "tags": []
   },
   "outputs": [
    {
     "name": "stdout",
     "output_type": "stream",
     "text": [
      "<class 'pandas.core.frame.DataFrame'>\n",
      "RangeIndex: 1459 entries, 0 to 1458\n",
      "Data columns (total 80 columns):\n",
      " #   Column         Non-Null Count  Dtype  \n",
      "---  ------         --------------  -----  \n",
      " 0   Id             1459 non-null   int64  \n",
      " 1   MSSubClass     1459 non-null   int64  \n",
      " 2   MSZoning       1455 non-null   object \n",
      " 3   LotFrontage    1232 non-null   float64\n",
      " 4   LotArea        1459 non-null   int64  \n",
      " 5   Street         1459 non-null   object \n",
      " 6   Alley          107 non-null    object \n",
      " 7   LotShape       1459 non-null   object \n",
      " 8   LandContour    1459 non-null   object \n",
      " 9   Utilities      1457 non-null   object \n",
      " 10  LotConfig      1459 non-null   object \n",
      " 11  LandSlope      1459 non-null   object \n",
      " 12  Neighborhood   1459 non-null   object \n",
      " 13  Condition1     1459 non-null   object \n",
      " 14  Condition2     1459 non-null   object \n",
      " 15  BldgType       1459 non-null   object \n",
      " 16  HouseStyle     1459 non-null   object \n",
      " 17  OverallQual    1459 non-null   int64  \n",
      " 18  OverallCond    1459 non-null   int64  \n",
      " 19  YearBuilt      1459 non-null   int64  \n",
      " 20  YearRemodAdd   1459 non-null   int64  \n",
      " 21  RoofStyle      1459 non-null   object \n",
      " 22  RoofMatl       1459 non-null   object \n",
      " 23  Exterior1st    1458 non-null   object \n",
      " 24  Exterior2nd    1458 non-null   object \n",
      " 25  MasVnrType     1443 non-null   object \n",
      " 26  MasVnrArea     1444 non-null   float64\n",
      " 27  ExterQual      1459 non-null   object \n",
      " 28  ExterCond      1459 non-null   object \n",
      " 29  Foundation     1459 non-null   object \n",
      " 30  BsmtQual       1415 non-null   object \n",
      " 31  BsmtCond       1414 non-null   object \n",
      " 32  BsmtExposure   1415 non-null   object \n",
      " 33  BsmtFinType1   1417 non-null   object \n",
      " 34  BsmtFinSF1     1458 non-null   float64\n",
      " 35  BsmtFinType2   1417 non-null   object \n",
      " 36  BsmtFinSF2     1458 non-null   float64\n",
      " 37  BsmtUnfSF      1458 non-null   float64\n",
      " 38  TotalBsmtSF    1458 non-null   float64\n",
      " 39  Heating        1459 non-null   object \n",
      " 40  HeatingQC      1459 non-null   object \n",
      " 41  CentralAir     1459 non-null   object \n",
      " 42  Electrical     1459 non-null   object \n",
      " 43  1stFlrSF       1459 non-null   int64  \n",
      " 44  2ndFlrSF       1459 non-null   int64  \n",
      " 45  LowQualFinSF   1459 non-null   int64  \n",
      " 46  GrLivArea      1459 non-null   int64  \n",
      " 47  BsmtFullBath   1457 non-null   float64\n",
      " 48  BsmtHalfBath   1457 non-null   float64\n",
      " 49  FullBath       1459 non-null   int64  \n",
      " 50  HalfBath       1459 non-null   int64  \n",
      " 51  BedroomAbvGr   1459 non-null   int64  \n",
      " 52  KitchenAbvGr   1459 non-null   int64  \n",
      " 53  KitchenQual    1458 non-null   object \n",
      " 54  TotRmsAbvGrd   1459 non-null   int64  \n",
      " 55  Functional     1457 non-null   object \n",
      " 56  Fireplaces     1459 non-null   int64  \n",
      " 57  FireplaceQu    729 non-null    object \n",
      " 58  GarageType     1383 non-null   object \n",
      " 59  GarageYrBlt    1381 non-null   float64\n",
      " 60  GarageFinish   1381 non-null   object \n",
      " 61  GarageCars     1458 non-null   float64\n",
      " 62  GarageArea     1458 non-null   float64\n",
      " 63  GarageQual     1381 non-null   object \n",
      " 64  GarageCond     1381 non-null   object \n",
      " 65  PavedDrive     1459 non-null   object \n",
      " 66  WoodDeckSF     1459 non-null   int64  \n",
      " 67  OpenPorchSF    1459 non-null   int64  \n",
      " 68  EnclosedPorch  1459 non-null   int64  \n",
      " 69  3SsnPorch      1459 non-null   int64  \n",
      " 70  ScreenPorch    1459 non-null   int64  \n",
      " 71  PoolArea       1459 non-null   int64  \n",
      " 72  PoolQC         3 non-null      object \n",
      " 73  Fence          290 non-null    object \n",
      " 74  MiscFeature    51 non-null     object \n",
      " 75  MiscVal        1459 non-null   int64  \n",
      " 76  MoSold         1459 non-null   int64  \n",
      " 77  YrSold         1459 non-null   int64  \n",
      " 78  SaleType       1458 non-null   object \n",
      " 79  SaleCondition  1459 non-null   object \n",
      "dtypes: float64(11), int64(26), object(43)\n",
      "memory usage: 912.0+ KB\n"
     ]
    }
   ],
   "source": [
    "test.info()"
   ]
  },
  {
   "cell_type": "code",
   "execution_count": 5,
   "id": "59a1176c",
   "metadata": {
    "execution": {
     "iopub.execute_input": "2023-03-10T18:04:27.526619Z",
     "iopub.status.busy": "2023-03-10T18:04:27.526151Z",
     "iopub.status.idle": "2023-03-10T18:04:27.539253Z",
     "shell.execute_reply": "2023-03-10T18:04:27.537375Z"
    },
    "papermill": {
     "duration": 0.024115,
     "end_time": "2023-03-10T18:04:27.542316",
     "exception": false,
     "start_time": "2023-03-10T18:04:27.518201",
     "status": "completed"
    },
    "tags": []
   },
   "outputs": [],
   "source": [
    "train = train.drop([\"Id\",\"Alley\",\"FireplaceQu\",\"PoolQC\",\"Fence\",\"MiscFeature\"] , axis = 1)\n",
    "test = test.drop([\"Alley\",\"FireplaceQu\",\"PoolQC\",\"Fence\",\"MiscFeature\"] , axis = 1)\n"
   ]
  },
  {
   "cell_type": "code",
   "execution_count": 6,
   "id": "6ede67ec",
   "metadata": {
    "execution": {
     "iopub.execute_input": "2023-03-10T18:04:27.556517Z",
     "iopub.status.busy": "2023-03-10T18:04:27.556113Z",
     "iopub.status.idle": "2023-03-10T18:04:28.919047Z",
     "shell.execute_reply": "2023-03-10T18:04:28.917290Z"
    },
    "papermill": {
     "duration": 1.374277,
     "end_time": "2023-03-10T18:04:28.922945",
     "exception": false,
     "start_time": "2023-03-10T18:04:27.548668",
     "status": "completed"
    },
    "tags": []
   },
   "outputs": [],
   "source": [
    "from sklearn.pipeline import make_pipeline\n",
    "from sklearn.preprocessing import OneHotEncoder\n",
    "from sklearn.impute import SimpleImputer\n",
    "from sklearn.preprocessing import StandardScaler\n",
    "\n"
   ]
  },
  {
   "cell_type": "code",
   "execution_count": 7,
   "id": "ed9c6fc9",
   "metadata": {
    "execution": {
     "iopub.execute_input": "2023-03-10T18:04:28.938520Z",
     "iopub.status.busy": "2023-03-10T18:04:28.938046Z",
     "iopub.status.idle": "2023-03-10T18:04:28.945320Z",
     "shell.execute_reply": "2023-03-10T18:04:28.943590Z"
    },
    "papermill": {
     "duration": 0.019033,
     "end_time": "2023-03-10T18:04:28.948735",
     "exception": false,
     "start_time": "2023-03-10T18:04:28.929702",
     "status": "completed"
    },
    "tags": []
   },
   "outputs": [],
   "source": [
    "num_pipeline = make_pipeline(SimpleImputer(strategy=\"median\"), StandardScaler())\n",
    "cat_pipeline = make_pipeline(SimpleImputer(strategy=\"most_frequent\"), OneHotEncoder(handle_unknown=\"ignore\"))"
   ]
  },
  {
   "cell_type": "code",
   "execution_count": 8,
   "id": "34947c62",
   "metadata": {
    "execution": {
     "iopub.execute_input": "2023-03-10T18:04:28.964161Z",
     "iopub.status.busy": "2023-03-10T18:04:28.963062Z",
     "iopub.status.idle": "2023-03-10T18:04:28.981685Z",
     "shell.execute_reply": "2023-03-10T18:04:28.979254Z"
    },
    "papermill": {
     "duration": 0.029182,
     "end_time": "2023-03-10T18:04:28.984461",
     "exception": false,
     "start_time": "2023-03-10T18:04:28.955279",
     "status": "completed"
    },
    "tags": []
   },
   "outputs": [
    {
     "name": "stderr",
     "output_type": "stream",
     "text": [
      "/opt/conda/lib/python3.7/site-packages/ipykernel_launcher.py:4: DeprecationWarning: `np.object` is a deprecated alias for the builtin `object`. To silence this warning, use `object` by itself. Doing this will not modify any behavior and is safe. \n",
      "Deprecated in NumPy 1.20; for more details and guidance: https://numpy.org/devdocs/release/1.20.0-notes.html#deprecations\n",
      "  after removing the cwd from sys.path.\n"
     ]
    }
   ],
   "source": [
    "from sklearn.compose import make_column_selector , make_column_transformer\n",
    "preprocessing = make_column_transformer(\n",
    "    (num_pipeline , make_column_selector(dtype_include=np.number)),\n",
    "    (cat_pipeline , make_column_selector(dtype_include=np.object)),\n",
    ")"
   ]
  },
  {
   "cell_type": "code",
   "execution_count": 9,
   "id": "d72d2233",
   "metadata": {
    "execution": {
     "iopub.execute_input": "2023-03-10T18:04:28.999455Z",
     "iopub.status.busy": "2023-03-10T18:04:28.999005Z",
     "iopub.status.idle": "2023-03-10T18:04:29.003768Z",
     "shell.execute_reply": "2023-03-10T18:04:29.002274Z"
    },
    "papermill": {
     "duration": 0.015686,
     "end_time": "2023-03-10T18:04:29.006807",
     "exception": false,
     "start_time": "2023-03-10T18:04:28.991121",
     "status": "completed"
    },
    "tags": []
   },
   "outputs": [],
   "source": [
    "#train_prepared = preprocessing.fit(train)\n",
    "#test_prepared = preprocessing.fit(test)"
   ]
  },
  {
   "cell_type": "code",
   "execution_count": 10,
   "id": "2469e282",
   "metadata": {
    "execution": {
     "iopub.execute_input": "2023-03-10T18:04:29.021754Z",
     "iopub.status.busy": "2023-03-10T18:04:29.021335Z",
     "iopub.status.idle": "2023-03-10T18:04:29.028633Z",
     "shell.execute_reply": "2023-03-10T18:04:29.027075Z"
    },
    "papermill": {
     "duration": 0.018195,
     "end_time": "2023-03-10T18:04:29.031584",
     "exception": false,
     "start_time": "2023-03-10T18:04:29.013389",
     "status": "completed"
    },
    "tags": []
   },
   "outputs": [],
   "source": [
    "X = train.drop([\"SalePrice\"] , axis=1)\n",
    "Y = train[\"SalePrice\"]\n",
    "\n"
   ]
  },
  {
   "cell_type": "code",
   "execution_count": 11,
   "id": "1b9284a3",
   "metadata": {
    "execution": {
     "iopub.execute_input": "2023-03-10T18:04:29.046509Z",
     "iopub.status.busy": "2023-03-10T18:04:29.046057Z",
     "iopub.status.idle": "2023-03-10T18:04:29.051438Z",
     "shell.execute_reply": "2023-03-10T18:04:29.049649Z"
    },
    "papermill": {
     "duration": 0.015442,
     "end_time": "2023-03-10T18:04:29.053707",
     "exception": false,
     "start_time": "2023-03-10T18:04:29.038265",
     "status": "completed"
    },
    "tags": []
   },
   "outputs": [],
   "source": [
    "from sklearn.model_selection import cross_val_score"
   ]
  },
  {
   "cell_type": "code",
   "execution_count": 12,
   "id": "eb29aa23",
   "metadata": {
    "execution": {
     "iopub.execute_input": "2023-03-10T18:04:29.069586Z",
     "iopub.status.busy": "2023-03-10T18:04:29.069163Z",
     "iopub.status.idle": "2023-03-10T18:04:29.470296Z",
     "shell.execute_reply": "2023-03-10T18:04:29.469166Z"
    },
    "papermill": {
     "duration": 0.411453,
     "end_time": "2023-03-10T18:04:29.472896",
     "exception": false,
     "start_time": "2023-03-10T18:04:29.061443",
     "status": "completed"
    },
    "tags": []
   },
   "outputs": [
    {
     "data": {
      "text/plain": [
       "Pipeline(steps=[('columntransformer',\n",
       "                 ColumnTransformer(transformers=[('pipeline-1',\n",
       "                                                  Pipeline(steps=[('simpleimputer',\n",
       "                                                                   SimpleImputer(strategy='median')),\n",
       "                                                                  ('standardscaler',\n",
       "                                                                   StandardScaler())]),\n",
       "                                                  <sklearn.compose._column_transformer.make_column_selector object at 0x7fba989ad390>),\n",
       "                                                 ('pipeline-2',\n",
       "                                                  Pipeline(steps=[('simpleimputer',\n",
       "                                                                   SimpleImputer(strategy='most_frequent')),\n",
       "                                                                  ('onehotencoder',\n",
       "                                                                   OneHotEncoder(handle_unknown='ignore'))]),\n",
       "                                                  <sklearn.compose._column_transformer.make_column_selector object at 0x7fba81a2a410>)])),\n",
       "                ('linearregression', LinearRegression())])"
      ]
     },
     "execution_count": 12,
     "metadata": {},
     "output_type": "execute_result"
    }
   ],
   "source": [
    "from sklearn.linear_model import LinearRegression\n",
    "lin_reg = make_pipeline(preprocessing , LinearRegression())\n",
    "lin_reg.fit(X , Y)"
   ]
  },
  {
   "cell_type": "code",
   "execution_count": 13,
   "id": "22cea9bf",
   "metadata": {
    "execution": {
     "iopub.execute_input": "2023-03-10T18:04:29.487782Z",
     "iopub.status.busy": "2023-03-10T18:04:29.487446Z",
     "iopub.status.idle": "2023-03-10T18:04:29.522653Z",
     "shell.execute_reply": "2023-03-10T18:04:29.521004Z"
    },
    "papermill": {
     "duration": 0.046154,
     "end_time": "2023-03-10T18:04:29.525647",
     "exception": false,
     "start_time": "2023-03-10T18:04:29.479493",
     "status": "completed"
    },
    "tags": []
   },
   "outputs": [
    {
     "data": {
      "text/plain": [
       "20939.666267878747"
      ]
     },
     "execution_count": 13,
     "metadata": {},
     "output_type": "execute_result"
    }
   ],
   "source": [
    "from sklearn.metrics import mean_squared_error\n",
    "predictions = lin_reg.predict(X)\n",
    "lin_rmse = mean_squared_error(Y , predictions , squared=False)\n",
    "lin_rmse"
   ]
  },
  {
   "cell_type": "code",
   "execution_count": 14,
   "id": "500577e0",
   "metadata": {
    "execution": {
     "iopub.execute_input": "2023-03-10T18:04:29.542621Z",
     "iopub.status.busy": "2023-03-10T18:04:29.542184Z",
     "iopub.status.idle": "2023-03-10T18:04:32.774179Z",
     "shell.execute_reply": "2023-03-10T18:04:32.772355Z"
    },
    "papermill": {
     "duration": 3.243643,
     "end_time": "2023-03-10T18:04:32.776967",
     "exception": false,
     "start_time": "2023-03-10T18:04:29.533324",
     "status": "completed"
    },
    "tags": []
   },
   "outputs": [],
   "source": [
    "lin_rmses = -cross_val_score(lin_reg , X , Y , scoring=\"neg_root_mean_squared_error\" , cv=10 )"
   ]
  },
  {
   "cell_type": "code",
   "execution_count": 15,
   "id": "fe094069",
   "metadata": {
    "execution": {
     "iopub.execute_input": "2023-03-10T18:04:32.792726Z",
     "iopub.status.busy": "2023-03-10T18:04:32.792353Z",
     "iopub.status.idle": "2023-03-10T18:04:32.804377Z",
     "shell.execute_reply": "2023-03-10T18:04:32.803000Z"
    },
    "papermill": {
     "duration": 0.02256,
     "end_time": "2023-03-10T18:04:32.806370",
     "exception": false,
     "start_time": "2023-03-10T18:04:32.783810",
     "status": "completed"
    },
    "tags": []
   },
   "outputs": [
    {
     "data": {
      "text/plain": [
       "count       10.000000\n",
       "mean     32263.622087\n",
       "std      12976.559297\n",
       "min      22424.234963\n",
       "25%      23393.176337\n",
       "50%      26747.005865\n",
       "75%      38813.347611\n",
       "max      61919.104297\n",
       "dtype: float64"
      ]
     },
     "execution_count": 15,
     "metadata": {},
     "output_type": "execute_result"
    }
   ],
   "source": [
    "pd.Series(lin_rmses).describe()"
   ]
  },
  {
   "cell_type": "code",
   "execution_count": 16,
   "id": "da80a2f1",
   "metadata": {
    "execution": {
     "iopub.execute_input": "2023-03-10T18:04:32.821827Z",
     "iopub.status.busy": "2023-03-10T18:04:32.821425Z",
     "iopub.status.idle": "2023-03-10T18:04:33.076703Z",
     "shell.execute_reply": "2023-03-10T18:04:33.075480Z"
    },
    "papermill": {
     "duration": 0.266333,
     "end_time": "2023-03-10T18:04:33.079660",
     "exception": false,
     "start_time": "2023-03-10T18:04:32.813327",
     "status": "completed"
    },
    "tags": []
   },
   "outputs": [
    {
     "data": {
      "text/plain": [
       "Pipeline(steps=[('columntransformer',\n",
       "                 ColumnTransformer(transformers=[('pipeline-1',\n",
       "                                                  Pipeline(steps=[('simpleimputer',\n",
       "                                                                   SimpleImputer(strategy='median')),\n",
       "                                                                  ('standardscaler',\n",
       "                                                                   StandardScaler())]),\n",
       "                                                  <sklearn.compose._column_transformer.make_column_selector object at 0x7fba989ad390>),\n",
       "                                                 ('pipeline-2',\n",
       "                                                  Pipeline(steps=[('simpleimputer',\n",
       "                                                                   SimpleImputer(strategy='most_frequent')),\n",
       "                                                                  ('onehotencoder',\n",
       "                                                                   OneHotEncoder(handle_unknown='ignore'))]),\n",
       "                                                  <sklearn.compose._column_transformer.make_column_selector object at 0x7fba81a2a410>)])),\n",
       "                ('decisiontreeregressor',\n",
       "                 DecisionTreeRegressor(random_state=42))])"
      ]
     },
     "execution_count": 16,
     "metadata": {},
     "output_type": "execute_result"
    }
   ],
   "source": [
    "from sklearn.tree import DecisionTreeRegressor\n",
    "tree_reg = make_pipeline(preprocessing , DecisionTreeRegressor(random_state=42))\n",
    "tree_reg.fit(X , Y)"
   ]
  },
  {
   "cell_type": "code",
   "execution_count": 17,
   "id": "ffdae471",
   "metadata": {
    "execution": {
     "iopub.execute_input": "2023-03-10T18:04:33.095462Z",
     "iopub.status.busy": "2023-03-10T18:04:33.094954Z",
     "iopub.status.idle": "2023-03-10T18:04:33.133689Z",
     "shell.execute_reply": "2023-03-10T18:04:33.132469Z"
    },
    "papermill": {
     "duration": 0.049532,
     "end_time": "2023-03-10T18:04:33.136085",
     "exception": false,
     "start_time": "2023-03-10T18:04:33.086553",
     "status": "completed"
    },
    "tags": []
   },
   "outputs": [
    {
     "data": {
      "text/plain": [
       "0.0"
      ]
     },
     "execution_count": 17,
     "metadata": {},
     "output_type": "execute_result"
    }
   ],
   "source": [
    "from sklearn.metrics import mean_squared_error\n",
    "predictions = tree_reg.predict(X)\n",
    "tree_rmse = mean_squared_error(Y , predictions , squared=False)\n",
    "tree_rmse"
   ]
  },
  {
   "cell_type": "code",
   "execution_count": 18,
   "id": "1068be5a",
   "metadata": {
    "execution": {
     "iopub.execute_input": "2023-03-10T18:04:33.152097Z",
     "iopub.status.busy": "2023-03-10T18:04:33.151071Z",
     "iopub.status.idle": "2023-03-10T18:04:34.785921Z",
     "shell.execute_reply": "2023-03-10T18:04:34.784707Z"
    },
    "papermill": {
     "duration": 1.645494,
     "end_time": "2023-03-10T18:04:34.788511",
     "exception": false,
     "start_time": "2023-03-10T18:04:33.143017",
     "status": "completed"
    },
    "tags": []
   },
   "outputs": [],
   "source": [
    "\n",
    "tree_rmses = -cross_val_score(tree_reg , X , Y , scoring=\"neg_root_mean_squared_error\" , cv=10 )"
   ]
  },
  {
   "cell_type": "code",
   "execution_count": 19,
   "id": "91f89c77",
   "metadata": {
    "execution": {
     "iopub.execute_input": "2023-03-10T18:04:34.805272Z",
     "iopub.status.busy": "2023-03-10T18:04:34.804545Z",
     "iopub.status.idle": "2023-03-10T18:04:34.816288Z",
     "shell.execute_reply": "2023-03-10T18:04:34.814511Z"
    },
    "papermill": {
     "duration": 0.023843,
     "end_time": "2023-03-10T18:04:34.819348",
     "exception": false,
     "start_time": "2023-03-10T18:04:34.795505",
     "status": "completed"
    },
    "tags": []
   },
   "outputs": [
    {
     "data": {
      "text/plain": [
       "count       10.000000\n",
       "mean     38665.270063\n",
       "std      11105.188875\n",
       "min      29069.687734\n",
       "25%      32996.226293\n",
       "50%      35687.051972\n",
       "75%      39411.783576\n",
       "max      68295.307920\n",
       "dtype: float64"
      ]
     },
     "execution_count": 19,
     "metadata": {},
     "output_type": "execute_result"
    }
   ],
   "source": [
    "pd.Series(tree_rmses).describe()"
   ]
  },
  {
   "cell_type": "code",
   "execution_count": 20,
   "id": "d99144b1",
   "metadata": {
    "execution": {
     "iopub.execute_input": "2023-03-10T18:04:34.836083Z",
     "iopub.status.busy": "2023-03-10T18:04:34.835028Z",
     "iopub.status.idle": "2023-03-10T18:04:43.413694Z",
     "shell.execute_reply": "2023-03-10T18:04:43.411760Z"
    },
    "papermill": {
     "duration": 8.590466,
     "end_time": "2023-03-10T18:04:43.417027",
     "exception": false,
     "start_time": "2023-03-10T18:04:34.826561",
     "status": "completed"
    },
    "tags": []
   },
   "outputs": [
    {
     "data": {
      "text/plain": [
       "Pipeline(steps=[('columntransformer',\n",
       "                 ColumnTransformer(transformers=[('pipeline-1',\n",
       "                                                  Pipeline(steps=[('simpleimputer',\n",
       "                                                                   SimpleImputer(strategy='median')),\n",
       "                                                                  ('standardscaler',\n",
       "                                                                   StandardScaler())]),\n",
       "                                                  <sklearn.compose._column_transformer.make_column_selector object at 0x7fba989ad390>),\n",
       "                                                 ('pipeline-2',\n",
       "                                                  Pipeline(steps=[('simpleimputer',\n",
       "                                                                   SimpleImputer(strategy='most_frequent')),\n",
       "                                                                  ('onehotencoder',\n",
       "                                                                   OneHotEncoder(handle_unknown='ignore'))]),\n",
       "                                                  <sklearn.compose._column_transformer.make_column_selector object at 0x7fba81a2a410>)])),\n",
       "                ('randomforestregressor',\n",
       "                 RandomForestRegressor(random_state=42))])"
      ]
     },
     "execution_count": 20,
     "metadata": {},
     "output_type": "execute_result"
    }
   ],
   "source": [
    "from sklearn.ensemble import RandomForestRegressor\n",
    "forest_reg = make_pipeline(preprocessing , RandomForestRegressor(random_state=42))\n",
    "forest_reg.fit(X , Y)\n"
   ]
  },
  {
   "cell_type": "code",
   "execution_count": 21,
   "id": "85aa7f18",
   "metadata": {
    "execution": {
     "iopub.execute_input": "2023-03-10T18:04:43.434121Z",
     "iopub.status.busy": "2023-03-10T18:04:43.433706Z",
     "iopub.status.idle": "2023-03-10T18:05:56.214598Z",
     "shell.execute_reply": "2023-03-10T18:05:56.213473Z"
    },
    "papermill": {
     "duration": 72.793115,
     "end_time": "2023-03-10T18:05:56.217708",
     "exception": false,
     "start_time": "2023-03-10T18:04:43.424593",
     "status": "completed"
    },
    "tags": []
   },
   "outputs": [],
   "source": [
    "forest_rmses = -cross_val_score(forest_reg , X , Y , scoring=\"neg_root_mean_squared_error\" , cv=10 )"
   ]
  },
  {
   "cell_type": "code",
   "execution_count": 22,
   "id": "f8eda43a",
   "metadata": {
    "execution": {
     "iopub.execute_input": "2023-03-10T18:05:56.234213Z",
     "iopub.status.busy": "2023-03-10T18:05:56.233147Z",
     "iopub.status.idle": "2023-03-10T18:05:56.243355Z",
     "shell.execute_reply": "2023-03-10T18:05:56.242174Z"
    },
    "papermill": {
     "duration": 0.020734,
     "end_time": "2023-03-10T18:05:56.245643",
     "exception": false,
     "start_time": "2023-03-10T18:05:56.224909",
     "status": "completed"
    },
    "tags": []
   },
   "outputs": [
    {
     "data": {
      "text/plain": [
       "count       10.000000\n",
       "mean     29031.971238\n",
       "std       6978.442195\n",
       "min      22451.832380\n",
       "25%      24880.554420\n",
       "50%      25817.398197\n",
       "75%      30978.836334\n",
       "max      43311.637855\n",
       "dtype: float64"
      ]
     },
     "execution_count": 22,
     "metadata": {},
     "output_type": "execute_result"
    }
   ],
   "source": [
    "pd.Series(forest_rmses).describe()"
   ]
  },
  {
   "cell_type": "code",
   "execution_count": 23,
   "id": "c526c0bd",
   "metadata": {
    "execution": {
     "iopub.execute_input": "2023-03-10T18:05:56.262122Z",
     "iopub.status.busy": "2023-03-10T18:05:56.261745Z",
     "iopub.status.idle": "2023-03-10T18:06:07.565691Z",
     "shell.execute_reply": "2023-03-10T18:06:07.564153Z"
    },
    "papermill": {
     "duration": 11.315774,
     "end_time": "2023-03-10T18:06:07.568722",
     "exception": false,
     "start_time": "2023-03-10T18:05:56.252948",
     "status": "completed"
    },
    "tags": []
   },
   "outputs": [
    {
     "data": {
      "text/plain": [
       "GridSearchCV(cv=5,\n",
       "             estimator=Pipeline(steps=[('preprocessing',\n",
       "                                        ColumnTransformer(transformers=[('pipeline-1',\n",
       "                                                                         Pipeline(steps=[('simpleimputer',\n",
       "                                                                                          SimpleImputer(strategy='median')),\n",
       "                                                                                         ('standardscaler',\n",
       "                                                                                          StandardScaler())]),\n",
       "                                                                         <sklearn.compose._column_transformer.make_column_selector object at 0x7fba989ad390>),\n",
       "                                                                        ('pipeline-2',\n",
       "                                                                         Pipeline(steps=[('simpleimputer',\n",
       "                                                                                          SimpleImputer(strategy='most_frequent')),\n",
       "                                                                                         ('onehotencoder',\n",
       "                                                                                          OneHotEncoder(handle_unknown='ignore'))]),\n",
       "                                                                         <sklearn.compose._column_transformer.make_column_selector object at 0x7fba81a2a410>)])),\n",
       "                                       ('random_forest',\n",
       "                                        RandomForestRegressor(random_state=42))]),\n",
       "             param_grid=[{'random_forest__max_features': [8, 10, 12]}],\n",
       "             scoring='neg_root_mean_squared_error')"
      ]
     },
     "execution_count": 23,
     "metadata": {},
     "output_type": "execute_result"
    }
   ],
   "source": [
    "from sklearn.model_selection import GridSearchCV\n",
    "from sklearn.pipeline import Pipeline\n",
    "full_pipeline = Pipeline(\n",
    "[\n",
    "    (\"preprocessing\" , preprocessing),\n",
    "    (\"random_forest\" , RandomForestRegressor(random_state=42)),\n",
    "])\n",
    "\n",
    "param_grid = [\n",
    "    {'random_forest__max_features':[8,10,12]},\n",
    "]\n",
    "grid_search = GridSearchCV(full_pipeline , param_grid , cv=5 , scoring='neg_root_mean_squared_error')\n",
    "grid_search.fit(X,Y)"
   ]
  },
  {
   "cell_type": "code",
   "execution_count": 24,
   "id": "a757e244",
   "metadata": {
    "execution": {
     "iopub.execute_input": "2023-03-10T18:06:07.585883Z",
     "iopub.status.busy": "2023-03-10T18:06:07.585476Z",
     "iopub.status.idle": "2023-03-10T18:06:07.593447Z",
     "shell.execute_reply": "2023-03-10T18:06:07.591732Z"
    },
    "papermill": {
     "duration": 0.019877,
     "end_time": "2023-03-10T18:06:07.596286",
     "exception": false,
     "start_time": "2023-03-10T18:06:07.576409",
     "status": "completed"
    },
    "tags": []
   },
   "outputs": [
    {
     "data": {
      "text/plain": [
       "{'random_forest__max_features': 12}"
      ]
     },
     "execution_count": 24,
     "metadata": {},
     "output_type": "execute_result"
    }
   ],
   "source": [
    "grid_search.best_params_"
   ]
  },
  {
   "cell_type": "code",
   "execution_count": 25,
   "id": "4a9c6486",
   "metadata": {
    "execution": {
     "iopub.execute_input": "2023-03-10T18:06:07.613870Z",
     "iopub.status.busy": "2023-03-10T18:06:07.613492Z",
     "iopub.status.idle": "2023-03-10T18:06:07.644981Z",
     "shell.execute_reply": "2023-03-10T18:06:07.643141Z"
    },
    "papermill": {
     "duration": 0.044125,
     "end_time": "2023-03-10T18:06:07.648152",
     "exception": false,
     "start_time": "2023-03-10T18:06:07.604027",
     "status": "completed"
    },
    "tags": []
   },
   "outputs": [
    {
     "data": {
      "text/html": [
       "<div>\n",
       "<style scoped>\n",
       "    .dataframe tbody tr th:only-of-type {\n",
       "        vertical-align: middle;\n",
       "    }\n",
       "\n",
       "    .dataframe tbody tr th {\n",
       "        vertical-align: top;\n",
       "    }\n",
       "\n",
       "    .dataframe thead th {\n",
       "        text-align: right;\n",
       "    }\n",
       "</style>\n",
       "<table border=\"1\" class=\"dataframe\">\n",
       "  <thead>\n",
       "    <tr style=\"text-align: right;\">\n",
       "      <th></th>\n",
       "      <th>max_features</th>\n",
       "      <th>split0</th>\n",
       "      <th>split1</th>\n",
       "      <th>split2</th>\n",
       "      <th>mean_test_rmse</th>\n",
       "    </tr>\n",
       "  </thead>\n",
       "  <tbody>\n",
       "    <tr>\n",
       "      <th>2</th>\n",
       "      <td>12</td>\n",
       "      <td>25630</td>\n",
       "      <td>33215</td>\n",
       "      <td>36559</td>\n",
       "      <td>31257</td>\n",
       "    </tr>\n",
       "    <tr>\n",
       "      <th>1</th>\n",
       "      <td>10</td>\n",
       "      <td>26197</td>\n",
       "      <td>33961</td>\n",
       "      <td>36142</td>\n",
       "      <td>31647</td>\n",
       "    </tr>\n",
       "    <tr>\n",
       "      <th>0</th>\n",
       "      <td>8</td>\n",
       "      <td>26550</td>\n",
       "      <td>33878</td>\n",
       "      <td>37431</td>\n",
       "      <td>32048</td>\n",
       "    </tr>\n",
       "  </tbody>\n",
       "</table>\n",
       "</div>"
      ],
      "text/plain": [
       "  max_features  split0  split1  split2  mean_test_rmse\n",
       "2           12   25630   33215   36559           31257\n",
       "1           10   26197   33961   36142           31647\n",
       "0            8   26550   33878   37431           32048"
      ]
     },
     "execution_count": 25,
     "metadata": {},
     "output_type": "execute_result"
    }
   ],
   "source": [
    "cv_res = pd.DataFrame(grid_search.cv_results_)\n",
    "cv_res.sort_values(by=\"mean_test_score\", ascending=False, inplace=True)\n",
    "\n",
    "# extra code – these few lines of code just make the DataFrame look nicer\n",
    "cv_res = cv_res[[\n",
    "                 \"param_random_forest__max_features\", \"split0_test_score\",\n",
    "                 \"split1_test_score\", \"split2_test_score\", \"mean_test_score\"]]\n",
    "score_cols = [\"split0\", \"split1\", \"split2\", \"mean_test_rmse\"]\n",
    "cv_res.columns = [\"max_features\"] + score_cols\n",
    "cv_res[score_cols] = -cv_res[score_cols].round().astype(np.int64)\n",
    "\n",
    "cv_res.head()"
   ]
  },
  {
   "cell_type": "code",
   "execution_count": 26,
   "id": "2162c16f",
   "metadata": {
    "execution": {
     "iopub.execute_input": "2023-03-10T18:06:07.666089Z",
     "iopub.status.busy": "2023-03-10T18:06:07.665676Z",
     "iopub.status.idle": "2023-03-10T18:06:07.671377Z",
     "shell.execute_reply": "2023-03-10T18:06:07.670156Z"
    },
    "papermill": {
     "duration": 0.017459,
     "end_time": "2023-03-10T18:06:07.673926",
     "exception": false,
     "start_time": "2023-03-10T18:06:07.656467",
     "status": "completed"
    },
    "tags": []
   },
   "outputs": [],
   "source": [
    "final_model = grid_search.best_estimator_"
   ]
  },
  {
   "cell_type": "code",
   "execution_count": 27,
   "id": "40bcbd59",
   "metadata": {
    "execution": {
     "iopub.execute_input": "2023-03-10T18:06:07.691532Z",
     "iopub.status.busy": "2023-03-10T18:06:07.691117Z",
     "iopub.status.idle": "2023-03-10T18:06:07.875106Z",
     "shell.execute_reply": "2023-03-10T18:06:07.873642Z"
    },
    "papermill": {
     "duration": 0.195724,
     "end_time": "2023-03-10T18:06:07.877707",
     "exception": false,
     "start_time": "2023-03-10T18:06:07.681983",
     "status": "completed"
    },
    "tags": []
   },
   "outputs": [
    {
     "name": "stdout",
     "output_type": "stream",
     "text": [
      "Accuracy of the model: 97.89%\n"
     ]
    }
   ],
   "source": [
    "acc = round(final_model.score(X, Y) * 100, 2)\n",
    "print('Accuracy of the model: {0}%'.format(acc))\n",
    "Y_pred = final_model.predict(test)"
   ]
  },
  {
   "cell_type": "code",
   "execution_count": 28,
   "id": "97e1e5bd",
   "metadata": {
    "execution": {
     "iopub.execute_input": "2023-03-10T18:06:07.896010Z",
     "iopub.status.busy": "2023-03-10T18:06:07.894514Z",
     "iopub.status.idle": "2023-03-10T18:06:07.909022Z",
     "shell.execute_reply": "2023-03-10T18:06:07.907428Z"
    },
    "papermill": {
     "duration": 0.026095,
     "end_time": "2023-03-10T18:06:07.911708",
     "exception": false,
     "start_time": "2023-03-10T18:06:07.885613",
     "status": "completed"
    },
    "tags": []
   },
   "outputs": [],
   "source": [
    "output = pd.DataFrame({\n",
    "        \"Id\": test[\"Id\"],\n",
    "        \"SalePrice\": Y_pred\n",
    "    })\n",
    "\n",
    "output.to_csv('submission.csv', index=False)"
   ]
  }
 ],
 "metadata": {
  "kernelspec": {
   "display_name": "Python 3",
   "language": "python",
   "name": "python3"
  },
  "language_info": {
   "codemirror_mode": {
    "name": "ipython",
    "version": 3
   },
   "file_extension": ".py",
   "mimetype": "text/x-python",
   "name": "python",
   "nbconvert_exporter": "python",
   "pygments_lexer": "ipython3",
   "version": "3.7.12"
  },
  "papermill": {
   "default_parameters": {},
   "duration": 110.364788,
   "end_time": "2023-03-10T18:06:08.643370",
   "environment_variables": {},
   "exception": null,
   "input_path": "__notebook__.ipynb",
   "output_path": "__notebook__.ipynb",
   "parameters": {},
   "start_time": "2023-03-10T18:04:18.278582",
   "version": "2.4.0"
  }
 },
 "nbformat": 4,
 "nbformat_minor": 5
}
